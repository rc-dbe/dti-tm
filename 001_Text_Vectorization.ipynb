{
  "nbformat": 4,
  "nbformat_minor": 0,
  "metadata": {
    "colab": {
      "name": "001_Text Vectorization",
      "provenance": [],
      "include_colab_link": true
    },
    "kernelspec": {
      "name": "python3",
      "display_name": "Python 3"
    }
  },
  "cells": [
    {
      "cell_type": "markdown",
      "metadata": {
        "id": "view-in-github",
        "colab_type": "text"
      },
      "source": [
        "<a href=\"https://colab.research.google.com/github/rc-dbe/dti-tm/blob/main/001_Text_Vectorization.ipynb\" target=\"_parent\"><img src=\"https://colab.research.google.com/assets/colab-badge.svg\" alt=\"Open In Colab\"/></a>"
      ]
    },
    {
      "cell_type": "markdown",
      "metadata": {
        "id": "oYDMM0KA539x"
      },
      "source": [
        "*Data Science Course - Telkom Digital Talent Incubator*\n",
        "\n",
        "\n",
        "---\n",
        "\n",
        "\n"
      ]
    },
    {
      "cell_type": "markdown",
      "metadata": {
        "id": "l8hi_06FvuFL"
      },
      "source": [
        "# **Text Vectorization**"
      ]
    },
    {
      "cell_type": "markdown",
      "metadata": {
        "id": "xzokUG-L4YqI"
      },
      "source": [
        "Text Vectorization is the process of converting text into numerical representation."
      ]
    },
    {
      "cell_type": "markdown",
      "metadata": {
        "id": "1kfLSJYotmp8"
      },
      "source": [
        "## **Count Vectorization**"
      ]
    },
    {
      "cell_type": "code",
      "metadata": {
        "id": "UPGwrei9ptps"
      },
      "source": [
        "# Import Library\n",
        "import sklearn"
      ],
      "execution_count": null,
      "outputs": []
    },
    {
      "cell_type": "code",
      "metadata": {
        "id": "qPKytIviqDnK"
      },
      "source": [
        "# Import Modul\n",
        "from sklearn.feature_extraction.text import CountVectorizer"
      ],
      "execution_count": null,
      "outputs": []
    },
    {
      "cell_type": "code",
      "metadata": {
        "id": "YPYh7SayqP4y"
      },
      "source": [
        "# Imput Text\n",
        "text =[\"aku suka kamu\", \"kamu aku gak suka aku\"]"
      ],
      "execution_count": null,
      "outputs": []
    },
    {
      "cell_type": "code",
      "metadata": {
        "id": "5qHmdJpPqZe9"
      },
      "source": [
        "# Count Vectorizer\n",
        "count_vectorizer = CountVectorizer()\n",
        "count_vectorizer.fit(text)"
      ],
      "execution_count": null,
      "outputs": []
    },
    {
      "cell_type": "code",
      "metadata": {
        "id": "wsee9W3-q0Dy"
      },
      "source": [
        "# Show Vocabulary\n",
        "count_vectorizer.vocabulary_"
      ],
      "execution_count": null,
      "outputs": []
    },
    {
      "cell_type": "code",
      "metadata": {
        "id": "LxZbVpdorCkF"
      },
      "source": [
        "# Get Vector\n",
        "count_vectorizer.vocabulary_.get('suka')"
      ],
      "execution_count": null,
      "outputs": []
    },
    {
      "cell_type": "code",
      "metadata": {
        "id": "y2rX84mWrZdi"
      },
      "source": [
        "# Transform to matrix\n",
        "transformed_vector = count_vectorizer.transform(text)\n",
        "print(transformed_vector.shape)"
      ],
      "execution_count": null,
      "outputs": []
    },
    {
      "cell_type": "code",
      "metadata": {
        "id": "q8jFosHar85i"
      },
      "source": [
        "# Print Matrix\n",
        "print(transformed_vector.toarray())"
      ],
      "execution_count": null,
      "outputs": []
    },
    {
      "cell_type": "markdown",
      "metadata": {
        "id": "QDB7KDd3ttZH"
      },
      "source": [
        "## **TF-IDF Vectorizer**"
      ]
    },
    {
      "cell_type": "code",
      "metadata": {
        "id": "8Q9FgcmbtvK1"
      },
      "source": [
        "# Import Module\n",
        "from sklearn.feature_extraction.text import TfidfVectorizer\n",
        "tfidf_vectorizer = TfidfVectorizer()"
      ],
      "execution_count": null,
      "outputs": []
    },
    {
      "cell_type": "code",
      "metadata": {
        "id": "xETL5t8Xtwg-"
      },
      "source": [
        "# TF-IDF Vectorizer\n",
        "tfidf_vector = tfidf_vectorizer.fit_transform(text)"
      ],
      "execution_count": null,
      "outputs": []
    },
    {
      "cell_type": "code",
      "metadata": {
        "id": "SAvE4OUoucVs"
      },
      "source": [
        "# Matrix Dimention\n",
        "tfidf_vector.shape"
      ],
      "execution_count": null,
      "outputs": []
    },
    {
      "cell_type": "code",
      "metadata": {
        "id": "pdp7HyL65Q8q"
      },
      "source": [
        "# Show Vocabulary\n",
        "tfidf_vectorizer.vocabulary_"
      ],
      "execution_count": null,
      "outputs": []
    },
    {
      "cell_type": "code",
      "metadata": {
        "id": "-oDc60wouqlO"
      },
      "source": [
        "# Print Matrix\n",
        "tfidf_vector.toarray()"
      ],
      "execution_count": null,
      "outputs": []
    },
    {
      "cell_type": "code",
      "metadata": {
        "id": "Qr-JDHM9vXzj"
      },
      "source": [
        "# IDF\n",
        "tfidf_vectorizer.idf_"
      ],
      "execution_count": null,
      "outputs": []
    },
    {
      "cell_type": "code",
      "metadata": {
        "id": "Zh8nvUJau6Dq"
      },
      "source": [
        "# IDF Dictionary\n",
        "dict(zip(tfidf_vectorizer.get_feature_names(), tfidf_vectorizer.idf_))"
      ],
      "execution_count": null,
      "outputs": []
    }
  ]
}